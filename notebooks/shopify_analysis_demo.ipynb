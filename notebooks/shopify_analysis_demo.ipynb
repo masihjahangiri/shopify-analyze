{
 "cells": [
  {
   "cell_type": "markdown",
   "id": "7854f2eb",
   "metadata": {},
   "source": [
    "# Shopify App Store Analysis Demo\n",
    "\n",
    "This notebook demonstrates how to use the Shopify App Store analysis tools to explore and visualize the dataset."
   ]
  },
  {
   "cell_type": "markdown",
   "id": "32954b9b",
   "metadata": {},
   "source": [
    "## Setup\n",
    "\n",
    "First, let's import the necessary modules and set up our environment."
   ]
  },
  {
   "cell_type": "code",
   "execution_count": null,
   "id": "63526a87",
   "metadata": {},
   "outputs": [],
   "source": [
    "import os\n",
    "import sys\n",
    "import pandas as pd\n",
    "import numpy as np\n",
    "import matplotlib.pyplot as plt\n",
    "import seaborn as sns\n",
    "from IPython.display import HTML, display\n",
    "import warnings\n",
    "\n",
    "# Add the project root to the path so we can import our modules\n",
    "sys.path.append('..')\n",
    "\n",
    "# Configure plotting\n",
    "plt.style.use('ggplot')\n",
    "plt.rcParams['figure.figsize'] = (12, 8)\n",
    "warnings.filterwarnings('ignore')\n",
    "\n",
    "# Import our modules\n",
    "from src.data.loader import (\n",
    "    load_apps, load_categories, load_apps_categories, \n",
    "    load_key_benefits, load_pricing_plans, load_pricing_plan_features,\n",
    "    process_reviews_in_chunks\n",
    ")\n",
    "from src.data.processor import (\n",
    "    preprocess_apps, preprocess_reviews, get_app_reviews_summary,\n",
    "    create_master_dataset\n",
    ")\n",
    "from src.analysis.stats import (\n",
    "    get_popular_apps, get_category_distribution, get_rating_distribution,\n",
    "    get_developer_stats, analyze_pricing_trends\n",
    ")\n",
    "from src.visualization.plots import (\n",
    "    plot_category_distribution, plot_rating_distribution,\n",
    "    plot_developer_stats, plot_pricing_plan_distribution\n",
    ")"
   ]
  },
  {
   "cell_type": "markdown",
   "id": "2a5bd082",
   "metadata": {},
   "source": [
    "## 1. Loading the Data\n",
    "\n",
    "Let's load the various datasets we'll be working with."
   ]
  },
  {
   "cell_type": "code",
   "execution_count": null,
   "id": "9ddc0b61",
   "metadata": {},
   "outputs": [],
   "source": [
    "# Load the main datasets\n",
    "apps_df = load_apps()\n",
    "categories_df = load_categories()\n",
    "apps_categories_df = load_apps_categories()\n",
    "key_benefits_df = load_key_benefits()\n",
    "pricing_plans_df = load_pricing_plans()\n",
    "pricing_plan_features_df = load_pricing_plan_features()\n",
    "\n",
    "# Display basic info about the datasets\n",
    "print(f\"Apps dataset: {apps_df.shape[0]} rows, {apps_df.shape[1]} columns\")\n",
    "print(f\"Categories dataset: {categories_df.shape[0]} rows, {categories_df.shape[1]} columns\")\n",
    "print(f\"Apps-Categories dataset: {apps_categories_df.shape[0]} rows, {apps_categories_df.shape[1]} columns\")\n",
    "print(f\"Key Benefits dataset: {key_benefits_df.shape[0]} rows, {key_benefits_df.shape[1]} columns\")\n",
    "print(f\"Pricing Plans dataset: {pricing_plans_df.shape[0]} rows, {pricing_plans_df.shape[1]} columns\")\n",
    "print(f\"Pricing Plan Features dataset: {pricing_plan_features_df.shape[0]} rows, {pricing_plan_features_df.shape[1]} columns\")"
   ]
  },
  {
   "cell_type": "markdown",
   "id": "75f04ee6",
   "metadata": {},
   "source": [
    "## 2. Exploring the Apps Dataset\n",
    "\n",
    "Let's take a look at the structure of the apps dataset."
   ]
  },
  {
   "cell_type": "code",
   "execution_count": null,
   "id": "f17c89d3",
   "metadata": {},
   "outputs": [],
   "source": [
    "# Display the first few rows of the apps dataset\n",
    "apps_df.head()"
   ]
  },
  {
   "cell_type": "code",
   "execution_count": null,
   "id": "a895d359",
   "metadata": {},
   "outputs": [],
   "source": [
    "# Get a summary of the apps dataset\n",
    "apps_df.info()"
   ]
  },
  {
   "cell_type": "code",
   "execution_count": null,
   "id": "aecd8dcf",
   "metadata": {},
   "outputs": [],
   "source": [
    "# Preprocess the apps dataset\n",
    "apps_df = preprocess_apps(apps_df)\n",
    "\n",
    "# Check for missing values\n",
    "missing_values = apps_df.isnull().sum()\n",
    "print(\"Missing values in apps dataset:\")\n",
    "print(missing_values[missing_values > 0])"
   ]
  },
  {
   "cell_type": "markdown",
   "id": "87d5e307",
   "metadata": {},
   "source": [
    "## 3. Exploring Categories\n",
    "\n",
    "Let's look at the categories and how apps are distributed among them."
   ]
  },
  {
   "cell_type": "code",
   "execution_count": null,
   "id": "40fbdd05",
   "metadata": {},
   "outputs": [],
   "source": [
    "# Display the categories\n",
    "categories_df.head(10)"
   ]
  },
  {
   "cell_type": "code",
   "execution_count": null,
   "id": "8229df8b",
   "metadata": {},
   "outputs": [],
   "source": [
    "# Get the distribution of apps across categories\n",
    "category_dist = get_category_distribution(apps_df, apps_categories_df, categories_df)\n",
    "\n",
    "# Display the top 15 categories\n",
    "category_dist.head(15)"
   ]
  },
  {
   "cell_type": "code",
   "execution_count": null,
   "id": "15f24346",
   "metadata": {},
   "outputs": [],
   "source": [
    "# Visualize the category distribution\n",
    "fig = plot_category_distribution(category_dist, top_n=15)\n",
    "plt.tight_layout()\n",
    "plt.show()"
   ]
  },
  {
   "cell_type": "markdown",
   "id": "ffcded86",
   "metadata": {},
   "source": [
    "## 4. Processing Reviews\n",
    "\n",
    "The reviews dataset is large, so we'll process it in chunks."
   ]
  },
  {
   "cell_type": "code",
   "execution_count": null,
   "id": "dfb72de5",
   "metadata": {},
   "outputs": [],
   "source": [
    "# Define a function to process review chunks\n",
    "def process_review_chunk(chunk):\n",
    "    processed_chunk = preprocess_reviews(chunk)\n",
    "    return get_app_reviews_summary(processed_chunk)\n",
    "\n",
    "# Process reviews in chunks (limit to 3 chunks for demonstration)\n",
    "reviews_summary_df = process_reviews_in_chunks(process_review_chunk, max_chunks=3)\n",
    "\n",
    "# Display the summary\n",
    "print(f\"Processed reviews for {len(reviews_summary_df)} apps\")\n",
    "reviews_summary_df.head()"
   ]
  },
  {
   "cell_type": "markdown",
   "id": "0f9e24c1",
   "metadata": {},
   "source": [
    "## 5. Creating a Master Dataset\n",
    "\n",
    "Let's combine all the data into a master dataset for analysis."
   ]
  },
  {
   "cell_type": "code",
   "execution_count": null,
   "id": "0ca98460",
   "metadata": {},
   "outputs": [],
   "source": [
    "# Create the master dataset\n",
    "master_df = create_master_dataset(\n",
    "    apps_df=apps_df,\n",
    "    apps_categories_df=apps_categories_df,\n",
    "    categories_df=categories_df,\n",
    "    reviews_summary_df=reviews_summary_df,\n",
    "    key_benefits_df=key_benefits_df,\n",
    "    pricing_plans_df=pricing_plans_df\n",
    ")\n",
    "\n",
    "# Display the master dataset\n",
    "print(f\"Master dataset: {master_df.shape[0]} rows, {master_df.shape[1]} columns\")\n",
    "master_df.head()"
   ]
  },
  {
   "cell_type": "markdown",
   "id": "e34d018b",
   "metadata": {},
   "source": [
    "## 6. Popular Apps Analysis\n",
    "\n",
    "Let's identify and analyze the most popular apps in the store."
   ]
  },
  {
   "cell_type": "code",
   "execution_count": null,
   "id": "7c4d1c1d",
   "metadata": {},
   "outputs": [],
   "source": [
    "# Get the most popular apps by reviews count\n",
    "popular_apps = get_popular_apps(master_df, by='reviews_count', n=10)\n",
    "popular_apps"
   ]
  },
  {
   "cell_type": "code",
   "execution_count": null,
   "id": "c0ae946c",
   "metadata": {},
   "outputs": [],
   "source": [
    "# Get the highest rated apps (with at least 10 reviews)\n",
    "high_rated_apps = master_df[master_df['reviews_count'] >= 10].sort_values('rating_value', ascending=False)\n",
    "high_rated_apps[['title', 'developer', 'rating_value', 'reviews_count']].head(10)"
   ]
  },
  {
   "cell_type": "markdown",
   "id": "82dc0bec",
   "metadata": {},
   "source": [
    "## 7. Rating Distribution Analysis"
   ]
  },
  {
   "cell_type": "code",
   "execution_count": null,
   "id": "8eafb058",
   "metadata": {},
   "outputs": [],
   "source": [
    "# Get the rating distribution\n",
    "rating_dist = get_rating_distribution(master_df, rating_col='rating_value')\n",
    "rating_dist"
   ]
  },
  {
   "cell_type": "code",
   "execution_count": null,
   "id": "000b3092",
   "metadata": {},
   "outputs": [],
   "source": [
    "# Visualize the rating distribution\n",
    "fig = plot_rating_distribution(rating_dist)\n",
    "plt.tight_layout()\n",
    "plt.show()"
   ]
  },
  {
   "cell_type": "markdown",
   "id": "72cc118e",
   "metadata": {},
   "source": [
    "## 8. Developer Analysis\n",
    "\n",
    "Let's analyze the developers in the Shopify App Store."
   ]
  },
  {
   "cell_type": "code",
   "execution_count": null,
   "id": "a70a7420",
   "metadata": {},
   "outputs": [],
   "source": [
    "# Get developer statistics\n",
    "dev_stats = get_developer_stats(master_df)\n",
    "dev_stats.head(10)"
   ]
  },
  {
   "cell_type": "code",
   "execution_count": null,
   "id": "5705d9fd",
   "metadata": {},
   "outputs": [],
   "source": [
    "# Visualize the top developers\n",
    "fig = plot_developer_stats(dev_stats, top_n=15)\n",
    "plt.tight_layout()\n",
    "plt.show()"
   ]
  },
  {
   "cell_type": "markdown",
   "id": "d0ad0d53",
   "metadata": {},
   "source": [
    "## 9. Pricing Analysis\n",
    "\n",
    "Let's analyze the pricing plans of apps in the Shopify App Store."
   ]
  },
  {
   "cell_type": "code",
   "execution_count": null,
   "id": "0b912140",
   "metadata": {},
   "outputs": [],
   "source": [
    "# Analyze pricing trends\n",
    "pricing_trends = analyze_pricing_trends(pricing_plans_df)\n",
    "pricing_trends"
   ]
  },
  {
   "cell_type": "code",
   "execution_count": null,
   "id": "5a5c1602",
   "metadata": {},
   "outputs": [],
   "source": [
    "# Visualize pricing plan distribution\n",
    "fig = plot_pricing_plan_distribution(pricing_trends)\n",
    "plt.tight_layout()\n",
    "plt.show()"
   ]
  },
  {
   "cell_type": "code",
   "execution_count": null,
   "id": "f0f9b2fc",
   "metadata": {},
   "outputs": [],
   "source": [
    "# Analyze pricing by category\n",
    "# First, get the primary category for each app\n",
    "app_primary_category = apps_categories_df.merge(categories_df, on='category_id')\n",
    "app_primary_category = app_primary_category.groupby('app_id').first().reset_index()\n",
    "\n",
    "# Merge with pricing plans\n",
    "pricing_by_category = pricing_plans_df.merge(app_primary_category, on='app_id')\n",
    "\n",
    "# Calculate average price by category for paid plans\n",
    "paid_pricing = pricing_by_category[pricing_by_category['price'] > 0]\n",
    "avg_price_by_category = paid_pricing.groupby('title')['price'].agg(['mean', 'median', 'count'])\n",
    "avg_price_by_category = avg_price_by_category.sort_values('mean', ascending=False)\n",
    "\n",
    "# Display the top 15 most expensive categories on average\n",
    "avg_price_by_category.head(15)"
   ]
  },
  {
   "cell_type": "code",
   "execution_count": null,
   "id": "2758d426",
   "metadata": {},
   "outputs": [],
   "source": [
    "# Visualize average price by category (top 15)\n",
    "plt.figure(figsize=(14, 8))\n",
    "top_categories = avg_price_by_category.head(15).reset_index()\n",
    "sns.barplot(x='mean', y='title', data=top_categories)\n",
    "plt.title('Average Price by Category (Top 15 Most Expensive)')\n",
    "plt.xlabel('Average Price ($)')\n",
    "plt.ylabel('Category')\n",
    "plt.tight_layout()\n",
    "plt.show()"
   ]
  },
  {
   "cell_type": "markdown",
   "id": "cc134f34",
   "metadata": {},
   "source": [
    "## 10. Key Benefits Analysis\n",
    "\n",
    "Let's analyze the key benefits of apps in the Shopify App Store."
   ]
  },
  {
   "cell_type": "code",
   "execution_count": null,
   "id": "50b962f2",
   "metadata": {},
   "outputs": [],
   "source": [
    "# Display the key benefits dataset\n",
    "key_benefits_df.head()"
   ]
  },
  {
   "cell_type": "code",
   "execution_count": null,
   "id": "fa3bc762",
   "metadata": {},
   "outputs": [],
   "source": [
    "# Count the number of key benefits per app\n",
    "benefits_count = key_benefits_df.groupby('app_id').size().reset_index(name='benefits_count')\n",
    "benefits_count.describe()"
   ]
  },
  {
   "cell_type": "code",
   "execution_count": null,
   "id": "5e827df1",
   "metadata": {},
   "outputs": [],
   "source": [
    "# Merge with apps data to see if more benefits correlate with popularity\n",
    "benefits_analysis = benefits_count.merge(master_df[['app_id', 'title', 'reviews_count', 'rating_value']], on='app_id')\n",
    "\n",
    "# Calculate correlation\n",
    "correlation = benefits_analysis[['benefits_count', 'reviews_count', 'rating_value']].corr()\n",
    "correlation"
   ]
  },
  {
   "cell_type": "code",
   "execution_count": null,
   "id": "12421efd",
   "metadata": {},
   "outputs": [],
   "source": [
    "# Visualize the relationship between number of benefits and reviews count\n",
    "plt.figure(figsize=(10, 6))\n",
    "sns.scatterplot(x='benefits_count', y='reviews_count', data=benefits_analysis)\n",
    "plt.title('Relationship Between Number of Key Benefits and Reviews Count')\n",
    "plt.xlabel('Number of Key Benefits')\n",
    "plt.ylabel('Number of Reviews')\n",
    "plt.tight_layout()\n",
    "plt.show()"
   ]
  },
  {
   "cell_type": "markdown",
   "id": "9f7a59cc",
   "metadata": {},
   "source": [
    "## 11. Conclusion and Key Insights\n",
    "\n",
    "Let's summarize our findings from the Shopify App Store analysis."
   ]
  },
  {
   "cell_type": "code",
   "execution_count": null,
   "id": "0c8af483",
   "metadata": {},
   "outputs": [],
   "source": [
    "# Generate key insights\n",
    "insights = [\n",
    "    f\"The Shopify App Store contains {len(apps_df)} apps across {len(categories_df)} categories.\",\n",
    "    f\"The most popular app category is {category_dist.iloc[0].name} with {category_dist.iloc[0]['count']} apps ({category_dist.iloc[0]['percentage']:.1f}% of all apps).\",\n",
    "    f\"The most prolific developer is {dev_stats.iloc[0]['developer']} with {dev_stats.iloc[0]['app_count']} apps.\",\n",
    "    f\"The most common pricing plan type is {pricing_trends.iloc[0]['plan_type']} ({pricing_trends.iloc[0]['percentage']:.1f}% of all plans).\",\n",
    "    f\"The average rating across all apps with reviews is {master_df['rating_value'].mean():.2f} out of 5.\",\n",
    "    f\"The most reviewed app is '{popular_apps.iloc[0]['title']}' with {popular_apps.iloc[0]['reviews_count']} reviews.\"\n",
    "]\n",
    "\n",
    "# Display insights\n",
    "for i, insight in enumerate(insights, 1):\n",
    "    print(f\"{i}. {insight}\")"
   ]
  },
  {
   "cell_type": "markdown",
   "id": "d62cf348",
   "metadata": {},
   "source": [
    "## 12. Next Steps\n",
    "\n",
    "Here are some potential next steps for further analysis:\n",
    "\n",
    "1. Perform sentiment analysis on app reviews to understand customer satisfaction\n",
    "2. Analyze the relationship between pricing strategies and app popularity\n",
    "3. Investigate seasonal trends in app installations and reviews\n",
    "4. Build a recommendation system for Shopify merchants based on their store characteristics\n",
    "5. Analyze the impact of app updates on ratings and reviews"
   ]
  }
 ],
 "metadata": {},
 "nbformat": 4,
 "nbformat_minor": 5
}
